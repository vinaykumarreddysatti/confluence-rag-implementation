{
 "cells": [
  {
   "cell_type": "code",
   "execution_count": 1,
   "id": "8e13f4a4-f3d1-4361-ad3e-c0779af00cca",
   "metadata": {},
   "outputs": [],
   "source": [
    "import os\n",
    "import requests\n",
    "from dotenv import load_dotenv\n",
    "from requests.auth import HTTPBasicAuth\n",
    "\n",
    "import numpy as np\n",
    "import faiss"
   ]
  },
  {
   "cell_type": "code",
   "execution_count": 2,
   "id": "b76ea425",
   "metadata": {},
   "outputs": [
    {
     "data": {
      "text/plain": [
       "True"
      ]
     },
     "execution_count": 2,
     "metadata": {},
     "output_type": "execute_result"
    }
   ],
   "source": [
    "# load dotenv\n",
    "load_dotenv()"
   ]
  },
  {
   "cell_type": "code",
   "execution_count": 41,
   "id": "a22b6c80-4313-4840-be80-52f24ba927f5",
   "metadata": {},
   "outputs": [
    {
     "name": "stdout",
     "output_type": "stream",
     "text": [
      "Software development <ac:layout><ac:layout-section ac:type=\"fixed-width\" ac:breakout-mode=\"default\"><ac:layout-cell><ac:structured-macro ac:name=\"panel\" ac:schema-version=\"1\" ac:macro-id=\"022d3530-ace1-4c84-88a3-009e4aac1\n",
      "Template - Product requirements <ac:structured-macro ac:name=\"details\" ac:schema-version=\"1\" data-layout=\"default\" ac:local-id=\"a750237f-a9f2-44f7-ae29-0fd5dbd51be8\" ac:macro-id=\"d858d8e03b5e1daef385609bd282d5dd\"><ac:rich-text-body>\n",
      "Template - Meeting notes <h2><ac:emoticon ac:name=\"blue-star\" ac:emoji-shortname=\":calendar_spiral:\" ac:emoji-id=\"1f5d3\" ac:emoji-fallback=\"\\uD83D\\uDDD3\" />&nbsp;Date</h2><p /><h2><ac:emoticon ac:name=\"blue-star\" ac:emoji-sho\n",
      "Template - Decision documentation <ac:macro ac:name=\"details\"><ac:rich-text-body><table data-layout=\"default\"><colgroup><col style=\"width: 149.0px;\" /><col style=\"width: 577.0px;\" /></colgroup><tbody><tr><th><p><strong>Status</strong>\n",
      "2025-09-14 Meeting notes <h2><ac:emoticon ac:name=\"blue-star\" ac:emoji-shortname=\":calendar_spiral:\" ac:emoji-id=\"1f5d3\" ac:emoji-fallback=\"\\uD83D\\uDDD3\" />&nbsp;Date</h2><p><time datetime=\"2025-09-14\" /></p><h2><ac:emoticon \n",
      "Overview <ac:layout><ac:layout-section ac:type=\"two_equal\"><ac:layout-cell>\n",
      "\n",
      "            <p><span style=\"color: rgb(151,160,175);\">Say hello to your colleagues who want to know your name, pronouns, role, team \n",
      "Getting started in Confluence <ac:layout><ac:layout-section ac:type=\"fixed-width\"><ac:layout-cell>\n",
      "<ac:structured-macro ac:name=\"panel\" ac:schema-version=\"1\" ac:macro-id=\"2b2f5915-a4ca-4250-befa-8b018d415ce5\"><ac:parameter ac:name\n",
      "Meeting notes in space <p style=\"text-align: right;\"><ac:macro ac:name=\"create-from-template\"><ac:parameter ac:name=\"contentBlueprintId\">29356b7c-ca42-4a56-81d7-36ed4cc1f4c0</ac:parameter><ac:parameter ac:name=\"blueprintMod\n",
      "My Profile <h1>👋 Hi, I'm Vinay Kumar Reddy Satti</h1><p>🚀 Full-stack developer with <strong>9.5+ years of experience</strong> in building scalable, high-performance applications across web, mobile, and backend s\n"
     ]
    }
   ],
   "source": [
    "# Fetch confluence pages\n",
    "auth = HTTPBasicAuth(os.environ.get('CONFLUENCE_USERNAME'), os.environ.get('CONFLUENCE_API_TOKEN'))\n",
    "headers = {\n",
    "    \"Accept\": \"application/json\",\n",
    "    \"Content-Type\": \"application/json\"\n",
    "}\n",
    "url=f'{os.environ.get('CONFLUENCE_DOMAIN')}/wiki/api/v2/pages?body-format=storage'\n",
    "response = requests.get(url, headers=headers, auth=auth)\n",
    "pages = response.json()[\"results\"]\n",
    "for page in pages:\n",
    "    title = page[\"title\"]\n",
    "    content = page[\"body\"][\"storage\"][\"value\"]\n",
    "    print(title, content[:200])"
   ]
  },
  {
   "cell_type": "code",
   "execution_count": 17,
   "id": "7a983e9c-30f0-40fb-afd8-ce9f40ab0c49",
   "metadata": {},
   "outputs": [
    {
     "name": "stdout",
     "output_type": "stream",
     "text": [
      "[[-0.06894588 -0.01874877  0.00015105 ... -0.05508795  0.01305944\n",
      "   0.03978699]\n",
      " [-0.03840163 -0.02341305  0.00550727 ...  0.07953945  0.01730547\n",
      "   0.01879585]\n",
      " [-0.03325803  0.0348582  -0.03294918 ... -0.03169325  0.03493221\n",
      "   0.02415984]\n",
      " [-0.07013027  0.03874774 -0.09290018 ... -0.01618124  0.01417076\n",
      "   0.00848898]\n",
      " [-0.06507482 -0.00230296  0.0003009  ...  0.04186031  0.00080836\n",
      "   0.0856195 ]]\n"
     ]
    }
   ],
   "source": [
    "#Chunk & Embed\n",
    "from langchain_text_splitters import RecursiveCharacterTextSplitter\n",
    "from sentence_transformers import SentenceTransformer\n",
    "splitter = RecursiveCharacterTextSplitter(chunk_size=1000, chunk_overlap=100)\n",
    "chunks = splitter.split_text(content)\n",
    "\n",
    "model = SentenceTransformer(\"all-MiniLM-L6-v2\")\n",
    "embeddings = model.encode(chunks)\n",
    "print(embeddings)"
   ]
  },
  {
   "cell_type": "code",
   "execution_count": 19,
   "id": "474ff618-848c-4d30-8b31-1fd9aad28164",
   "metadata": {},
   "outputs": [],
   "source": [
    "#store chunks and embeddings into vector db\n",
    "import chromadb\n",
    "\n",
    "chroma_client = chromadb.Client()\n",
    "collection = chroma_client.create_collection(\"confluence_docs\")\n",
    "\n",
    "for i, chunk in enumerate(chunks):\n",
    "    collection.add(documents=[chunk], embeddings=[embeddings[i]], ids=[str(i)])"
   ]
  },
  {
   "cell_type": "code",
   "execution_count": 39,
   "id": "4374b90c-af36-4d0b-91fd-d34a0da988fa",
   "metadata": {},
   "outputs": [
    {
     "name": "stdout",
     "output_type": "stream",
     "text": [
      "Unfortunately, I don't see any information about Confluence pages in the context provided. The text only mentions a Trade Banking Web Application, educational background, certifications, and contact information, but does not mention Confluence at all.\n",
      "\n",
      "If you could provide more context or clarify what you mean by \"pages available in my Confluence\", I'd be happy to try and help further!\n"
     ]
    }
   ],
   "source": [
    "# Query the results from the DB\n",
    "query = \"can you explain me in detail what are the pages available in my confluence\"\n",
    "q_embedding = model.encode([query])[0]\n",
    "\n",
    "# Retrieve\n",
    "results = collection.query(query_embeddings=[q_embedding], n_results=3)\n",
    "\n",
    "context = \"\\n\\n\".join(results[\"documents\"][0])\n",
    "\n",
    "prompt = f\"\"\"You are a helpful assistant. \n",
    "Answer the question using only the context below:\n",
    "\n",
    "Context:\n",
    "{context}\n",
    "\n",
    "Question: {query}\n",
    "Answer:\"\"\"\n",
    "\n",
    "resp = requests.post('http://localhost:11434/api/generate', json={\"model\": \"llama3.2\", \"prompt\": prompt, \"stream\": False})\n",
    "data = resp.json()\n",
    "print(data[\"response\"])"
   ]
  },
  {
   "cell_type": "code",
   "execution_count": null,
   "id": "98d0d12f-fc68-4ab6-ab63-a26a713d345f",
   "metadata": {},
   "outputs": [],
   "source": []
  }
 ],
 "metadata": {
  "kernelspec": {
   "display_name": "Python (venv)",
   "language": "python",
   "name": "venv"
  },
  "language_info": {
   "codemirror_mode": {
    "name": "ipython",
    "version": 3
   },
   "file_extension": ".py",
   "mimetype": "text/x-python",
   "name": "python",
   "nbconvert_exporter": "python",
   "pygments_lexer": "ipython3",
   "version": "3.12.7"
  }
 },
 "nbformat": 4,
 "nbformat_minor": 5
}
