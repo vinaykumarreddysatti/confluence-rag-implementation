{
 "cells": [
  {
   "cell_type": "code",
   "execution_count": 8,
   "id": "4374b90c-af36-4d0b-91fd-d34a0da988fa",
   "metadata": {},
   "outputs": [
    {
     "name": "stdout",
     "output_type": "stream",
     "text": [
      "Based on the provided context, I'd be happy to help you understand your profile in detail.\n",
      "\n",
      "**Introduction**\n",
      "\n",
      "Your profile is a personal website that showcases your professional and technical skills. The profile starts with a brief introduction:\n",
      "\n",
      "\"Hi, I'm Vinay Kumar Reddy Satti\"\n",
      "\n",
      "This is followed by a short bio that highlights your profession as a full-stack developer with over 9.5 years of experience in building scalable applications.\n",
      "\n",
      "**Experience**\n",
      "\n",
      "The next section, \"Experience,\" provides information about your current role and previous roles:\n",
      "\n",
      "* Lead Developer at TCS (Bangkok) - January 2021 to present\n",
      "* Designed & developed a [project name]\n",
      "\n",
      "This section also mentions that you are currently pursuing a Master's degree in AI & ML while working full-time.\n",
      "\n",
      "**Skills**\n",
      "\n",
      "The \"Tech Stack\" section lists your technical skills, which include:\n",
      "\n",
      "* Programming languages: Java, JavaScript, TypeScript, Dart, SQL, PL/SQL, Shell Script\n",
      "* Frontend technologies: React.js, Next.js, Redux, Bloc, HTML, CSS\n",
      "* Mobile development: Flutter\n",
      "* Backend technologies: Spring Boot, Node.js, RESTful APIs, GraphQL\n",
      "* Databases: MongoDB, SQL\n",
      "* DevOps and tools: Git, Bitbucket, SVN, Jenkins, Postman, ELK, OpenShift, SonarQube\n",
      "\n",
      "This section also mentions that you have a strong focus on performance optimization, code quality, and maintainability.\n",
      "\n",
      "**Education**\n",
      "\n",
      "Although there is no explicit mention of your educational background in the provided context, it can be inferred from the \"Experience\" section that you are pursuing a Master's degree in AI & ML while working full-time.\n",
      "\n",
      "**Contact Information**\n",
      "\n",
      "The final sections provide contact information:\n",
      "\n",
      "* Email: vinaykumarreddy.chaitu@outlook.com\n",
      "* LinkedIn: linkedin.com/in/vinaykumarreddy-satti-4883a91ab\n",
      "\n",
      "This allows potential employers, clients, or collaborators to easily get in touch with you.\n",
      "\n",
      "Overall, your profile provides a clear and concise overview of your professional experience, technical skills, and educational background. It also showcases your expertise in various areas and highlights your strengths as a full-stack developer.\n"
     ]
    }
   ],
   "source": [
    "import requests\n",
    "from sentence_transformers import SentenceTransformer\n",
    "from embed_chromadb_with_confluence import EmbedChromaDBWithConfluenceContent\n",
    "# Query the results from the DB\n",
    "model = SentenceTransformer(\"all-MiniLM-L6-v2\")\n",
    "query = \"can you explain me in detail about my profile\"\n",
    "q_embedding = model.encode([query])[0]  # Uncomment this line if you want to reset the DB and re-embed\n",
    "chromadb = EmbedChromaDBWithConfluenceContent()\n",
    "# Retrieve\n",
    "results = chromadb.get_collection().query(query_embeddings=[q_embedding], n_results=3)\n",
    "\n",
    "context = \"\\n\\n\".join(results[\"documents\"][0])\n",
    "\n",
    "prompt = f\"\"\"You are a helpful assistant. \n",
    "Answer the question using only the context below:\n",
    "\n",
    "Context:\n",
    "{context}\n",
    "\n",
    "Question: {query}\n",
    "Answer:\"\"\"\n",
    "\n",
    "resp = requests.post('http://localhost:11434/api/generate', json={\"model\": \"llama3.2\", \"prompt\": prompt, \"stream\": False})\n",
    "data = resp.json()\n",
    "print(data[\"response\"])"
   ]
  }
 ],
 "metadata": {
  "kernelspec": {
   "display_name": "Python (venv)",
   "language": "python",
   "name": "venv"
  },
  "language_info": {
   "codemirror_mode": {
    "name": "ipython",
    "version": 3
   },
   "file_extension": ".py",
   "mimetype": "text/x-python",
   "name": "python",
   "nbconvert_exporter": "python",
   "pygments_lexer": "ipython3",
   "version": "3.12.7"
  }
 },
 "nbformat": 4,
 "nbformat_minor": 5
}
