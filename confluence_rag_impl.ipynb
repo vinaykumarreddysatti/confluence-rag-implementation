{
 "cells": [
  {
   "cell_type": "code",
   "execution_count": 104,
   "id": "4374b90c-af36-4d0b-91fd-d34a0da988fa",
   "metadata": {},
   "outputs": [],
   "source": [
    "import json\n",
    "import requests\n",
    "import gradio as gr\n",
    "from sentence_transformers import SentenceTransformer\n",
    "from embed_chromadb_with_confluence import EmbedChromaDBWithConfluenceContent\n",
    "# Query the results from the DB\n",
    "model = SentenceTransformer(\"all-MiniLM-L6-v2\")\n",
    "def chat(message,history):\n",
    "    q_embedding = model.encode([message])[0]\n",
    "    chromadb = EmbedChromaDBWithConfluenceContent()\n",
    "    results = chromadb.get_collection().query(query_embeddings=[q_embedding], n_results=3)\n",
    "    context = \"\\n\\n\".join(results[\"documents\"][0])\n",
    "    print(context)\n",
    "    prompt = f\"\"\"You are a helpful assistant. \n",
    "        Answer the question using only the context below:\n",
    "        Context:\n",
    "        {context}\n",
    "        Question: {message}\n",
    "        Answer:\"\"\"\n",
    "    print(prompt)\n",
    "    stream = requests.post('http://localhost:11434/api/generate', json={\"model\": \"llama3.2\", \"prompt\": prompt, \"stream\": True})\n",
    "    response = \"\"\n",
    "    for line in stream.iter_lines():\n",
    "        if line:\n",
    "            try:\n",
    "                data = json.loads(line.decode(\"utf-8\"))\n",
    "                if \"response\" in data:\n",
    "                   response+=data[\"response\"] or ''\n",
    "                   yield response\n",
    "                if data.get(\"done\", False):\n",
    "                    print(\"\\n--- Generation Complete ---\")\n",
    "                    break\n",
    "            except json.JSONDecodeError:\n",
    "                pass"
   ]
  },
  {
   "cell_type": "code",
   "execution_count": null,
   "id": "8ecf8200",
   "metadata": {},
   "outputs": [
    {
     "name": "stdout",
     "output_type": "stream",
     "text": [
      "* Running on local URL:  http://127.0.0.1:7894\n",
      "* To create a public link, set `share=True` in `launch()`.\n"
     ]
    },
    {
     "data": {
      "text/html": [
       "<div><iframe src=\"http://127.0.0.1:7894/\" width=\"100%\" height=\"500\" allow=\"autoplay; camera; microphone; clipboard-read; clipboard-write;\" frameborder=\"0\" allowfullscreen></iframe></div>"
      ],
      "text/plain": [
       "<IPython.core.display.HTML object>"
      ]
     },
     "metadata": {},
     "output_type": "display_data"
    },
    {
     "data": {
      "text/plain": []
     },
     "execution_count": 105,
     "metadata": {},
     "output_type": "execute_result"
    },
    {
     "name": "stdout",
     "output_type": "stream",
     "text": [
      "Link</u></a></p></li></ul><hr /><h2>📫 Connect with Me</h2><ul><li><p>📧 Email: <a href=\"mailto:vinaykumarreddy.chaitu@outlook.com\"><strong><u>vinaykumarreddy.chaitu@outlook.com</u></strong></a></p></li><li><p>💼 LinkedIn: <a href=\"https://www.linkedin.com/in/vinaykumarreddy-satti-4883a91ab\"><u>linkedin.com/in/vinaykumarreddy-satti-4883a91ab</u></a></p></li></ul><hr /><p>⭐️ From <a href=\"https://github.com/vinaykumarreddysatti/my-profile/tree/main\"><u>Vinay Kumar Reddy</u></a></p>\n",
      "\n",
      "<h1>👋 Hi, I'm Vinay Kumar Reddy Satti</h1><p>🚀 Full-stack developer with <strong>9.5+ years of experience</strong> in building scalable, high-performance applications across web, mobile, and backend systems. Passionate about clean architecture, optimized workflows, and delivering impactful solutions.</p><hr /><h2>🧑&zwj;💻 About Me</h2><ul><li><p>🔭 Currently working as a <strong>Lead Developer at TCS (Bangkok)</strong></p></li><li><p>🌱 Pursuing a <strong>Master&rsquo;s in AI &amp; ML</strong> while working full-time</p></li><li><p>⚡ Skilled in <strong>React.js, Flutter, Spring Boot, Node.js, MongoDB, SQL, Java</strong></p></li><li><p>📌 Experienced in <strong>Agile, TDD, CI/CD, Microservices, and Cloud (Azure)</strong></p></li><li><p>🎯 Strong focus on performance optimization, code quality, and maintainability</p></li></ul><hr /><h2>🛠️ Tech Stack</h2><p><strong>Languages:</strong><br /><code>Java</code> | <code>JavaScript</code> | <code>TypeScript</code> | <code>Dart</code> |\n",
      "\n",
      "Services | Bangkok | Jan 2021 &ndash; Present</strong></h3><ul><li><p>Designed &amp; developed a <strong>Banking Customer Support System</strong> with Flutter &amp; Bloc (Tablet + Web apps)</p></li><li><p>Built a <strong>Mobile Banking App</strong> with features like E-KYC, Cardless Withdrawal, Credit Score Offers</p></li><li><p>Migrated <strong>monolithic Next.js app &rarr; Micro-frontend architecture</strong> using Module Federation</p></li><li><p>Created <strong>data &amp; batch processing tools</strong> (Node.js, MongoDB, Shell scripting) for millions of records</p></li><li><p>Automated deployments with Jenkins &amp; followed Agile best practices</p></li><li><p>Optimized performance via <strong>lazy loading, tree shaking, and WebSocket integrations</strong></p></li></ul><h3><strong>Full-Stack Developer | Tata Consultancy Services | Chennai | Mar 2016 &ndash; Dec 2020</strong></h3><ul><li><p>Developed a <strong>Trade Banking Web Application</strong> for secure financial\n",
      "You are a helpful assistant. \n",
      "        Answer the question using only the context below:\n",
      "        Context:\n",
      "        Link</u></a></p></li></ul><hr /><h2>📫 Connect with Me</h2><ul><li><p>📧 Email: <a href=\"mailto:vinaykumarreddy.chaitu@outlook.com\"><strong><u>vinaykumarreddy.chaitu@outlook.com</u></strong></a></p></li><li><p>💼 LinkedIn: <a href=\"https://www.linkedin.com/in/vinaykumarreddy-satti-4883a91ab\"><u>linkedin.com/in/vinaykumarreddy-satti-4883a91ab</u></a></p></li></ul><hr /><p>⭐️ From <a href=\"https://github.com/vinaykumarreddysatti/my-profile/tree/main\"><u>Vinay Kumar Reddy</u></a></p>\n",
      "\n",
      "<h1>👋 Hi, I'm Vinay Kumar Reddy Satti</h1><p>🚀 Full-stack developer with <strong>9.5+ years of experience</strong> in building scalable, high-performance applications across web, mobile, and backend systems. Passionate about clean architecture, optimized workflows, and delivering impactful solutions.</p><hr /><h2>🧑&zwj;💻 About Me</h2><ul><li><p>🔭 Currently working as a <strong>Lead Developer at TCS (Bangkok)</strong></p></li><li><p>🌱 Pursuing a <strong>Master&rsquo;s in AI &amp; ML</strong> while working full-time</p></li><li><p>⚡ Skilled in <strong>React.js, Flutter, Spring Boot, Node.js, MongoDB, SQL, Java</strong></p></li><li><p>📌 Experienced in <strong>Agile, TDD, CI/CD, Microservices, and Cloud (Azure)</strong></p></li><li><p>🎯 Strong focus on performance optimization, code quality, and maintainability</p></li></ul><hr /><h2>🛠️ Tech Stack</h2><p><strong>Languages:</strong><br /><code>Java</code> | <code>JavaScript</code> | <code>TypeScript</code> | <code>Dart</code> |\n",
      "\n",
      "Services | Bangkok | Jan 2021 &ndash; Present</strong></h3><ul><li><p>Designed &amp; developed a <strong>Banking Customer Support System</strong> with Flutter &amp; Bloc (Tablet + Web apps)</p></li><li><p>Built a <strong>Mobile Banking App</strong> with features like E-KYC, Cardless Withdrawal, Credit Score Offers</p></li><li><p>Migrated <strong>monolithic Next.js app &rarr; Micro-frontend architecture</strong> using Module Federation</p></li><li><p>Created <strong>data &amp; batch processing tools</strong> (Node.js, MongoDB, Shell scripting) for millions of records</p></li><li><p>Automated deployments with Jenkins &amp; followed Agile best practices</p></li><li><p>Optimized performance via <strong>lazy loading, tree shaking, and WebSocket integrations</strong></p></li></ul><h3><strong>Full-Stack Developer | Tata Consultancy Services | Chennai | Mar 2016 &ndash; Dec 2020</strong></h3><ul><li><p>Developed a <strong>Trade Banking Web Application</strong> for secure financial\n",
      "        Question: vinay\n",
      "        Answer:\n",
      "\n",
      "--- Generation Complete ---\n"
     ]
    }
   ],
   "source": [
    "gr.ChatInterface(fn=chat,type=\"messages\", title=\"Confluence RAG with LLM\", \n",
    "                 description=\"Ask questions about your Confluence content.\").launch()"
   ]
  }
 ],
 "metadata": {
  "kernelspec": {
   "display_name": "Python (venv)",
   "language": "python",
   "name": "venv"
  },
  "language_info": {
   "codemirror_mode": {
    "name": "ipython",
    "version": 3
   },
   "file_extension": ".py",
   "mimetype": "text/x-python",
   "name": "python",
   "nbconvert_exporter": "python",
   "pygments_lexer": "ipython3",
   "version": "3.12.7"
  }
 },
 "nbformat": 4,
 "nbformat_minor": 5
}
